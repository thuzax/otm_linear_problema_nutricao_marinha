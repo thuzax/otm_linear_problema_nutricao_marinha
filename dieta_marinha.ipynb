{
 "cells": [
  {
   "cell_type": "markdown",
   "metadata": {},
   "source": [
    "# Problema da Dieta aplicado ao planejamento de refeições da Marinha"
   ]
  },
  {
   "cell_type": "markdown",
   "metadata": {},
   "source": [
    "Este *notebook* tem o intuito de explicar e exemplificar o trabalho \"Problema da dieta: uma aplicação prática para o Navio Hidroceanográfico 'Taurus'\"."
   ]
  },
  {
   "cell_type": "markdown",
   "metadata": {},
   "source": [
    "## Estrutura do Notebook\n",
    "\n",
    "Inicialmente será apresentado um breve resumo do trabalho original com foco no problema estudado. Na sequência o é proposta uma formulação e implementação do modelo proposto pelos autores. Inicialmente são apresentados os requisitos para a execução do código. Em seguida são descritos os dados necessários para o modelo. Por fim, a função objetivo e as restrições são explicadas. Após a explicação do modelo ser finalizada, uma célula permite a execução do exemplo implementado."
   ]
  },
  {
   "cell_type": "markdown",
   "metadata": {},
   "source": [
    "## Trabalho original\n",
    "\n",
    "O problema proposto pelos autores é uma variação do problema da dieta que visa auxiliar no planejamento das refeições de uma viagem de 10 dias de soldados da marinha brasileira. O intuito é reduzir o custo de produção das refeições, além de suprir os requisitos nutricionais mínimos dos soldados.\n",
    "\n",
    "Além das restrições tradicionais do problemada dieta, os autores consideram fatores culturais da alimentação brasileira e a diversificação de refeições. É considerado um cardápio com 91 possíveis pratos.\n",
    "\n",
    "São consideradas três principais refeições a serem planejadas: desjejum, almoço e jantar. Para o desejejum é considerado uma refeição constante, ou seja, um custo e quantidade de nutrientes constantes. Logo, é necessário planejar somente o almoço e jantar, ou seja, 20 refeições.\n",
    "\n",
    "Os autores consideram cada prato como um ingrediente e calculam os valores nutricionais dos pratos utilizando tabelas nutricionais da *U.S. Department of Agriculture, Agricultural Research Service. 2001* e da *Tabela de\n",
    "Composição UNICAMP*. Os preços dos pratos são calculados com base nos valor dos ingredientes na época.\n",
    "\n",
    "Inicialmente, a formulação clássica para o problema foi testada, mas, como esperado, a diversificação dos alimentos foi baixa e não levou em conta fatores culturais. \n",
    "\n",
    "No Brasil duas principais características culturais podem ser facilmente identificadas na alimentação. O primeiro deles são os pratos principais, geralmente feitos a base de carne. O segundo é a presença de pratos baseados em arroz e feijão. Para garantir que esses elementos fossem incluídos, restrições foram adicionadas ao problema da dieta para que um número mínimo de pratos principais fossem incluídos. Também foram adicionadas restrições para que fosse garantido que pratos baseados em arroz e fejão estivessem incluído no mínimo em todos os almoços (10 refeições) e no máximo em todas as refeições (20). Foram feitos testes com pratos principais considerando a presença deles no mínimo em 10 (todos os almoços), 15 (todos os almoços e metade dos jantares) ou 20 (todas as refeições) refeições.\n",
    "\n",
    "Para garantir a diversificação, limitou-se o número de repetições de cada prato não cultural. Foram realizados testes com no máximo 10, 5, 4, 3 e 2 repetições.\n",
    "\n",
    "Observou-se que o aumento de diversificação e a inclusão de pratos principais gerou aumento no custo, como pode ser visto pela tabela a seguir (extraída do trabalho original).\n",
    "\n",
    "\n",
    "| | | Mínimo de pratos com carne (P) | |\n",
    "|:----------------------|:---------|:--------:|---------:|\n",
    "|Repetições de Refeição (O) | P >= 10 | P >= 15 | P >= 20 |\n",
    "| O <= 10 | R\\$ 28,50 | R\\$ 31,95 | R\\$ 35,65 |\n",
    "| O <= 5  | R\\$ 30,52 | R\\$ 33,90 | R\\$ 37,62 |\n",
    "| O <= 4  | R\\$ 31,46 | R\\$ 34,85 | R\\$ 39,22 |\n",
    "| O <= 3  | R\\$ 32,77 | R\\$ 36,70 | R\\$ 41,46 |\n",
    "| O <= 2  | R\\$ 36,24 | R\\$ 40,21 | R\\$ 45,18 |\n",
    "\n",
    "Os diferentes resultados obtidos pelos autores permitem que a decisão de aumentar a variabilidade do cardápio assim como a adição de mais pratos principais ao cardápio seja do gestor do navio, tornando o modelo proposto uma ferramenta de auxílio na tomada de decisão.\n",
    "\n",
    "\n",
    "\n",
    "### Referência do trabalho original\n",
    "\n",
    "PESSÔA, Leonardo Antonio Monteiro; LINS, Marcos Pereira Estellita; TORRES, Nilson Trevisan. Problema da dieta: uma aplicação prática para o Navio Hidroceanográfico “Taurus”. 2009."
   ]
  },
  {
   "cell_type": "markdown",
   "metadata": {},
   "source": [
    "# Requisitos\n",
    "\n",
    "É necessário o pacote [python-mip](https://www.python-mip.com/). Execute a célula abaixo para importar os pacotes utilizados."
   ]
  },
  {
   "cell_type": "code",
   "execution_count": null,
   "metadata": {},
   "outputs": [],
   "source": [
    "import os\n",
    "from mip import *"
   ]
  },
  {
   "cell_type": "markdown",
   "metadata": {},
   "source": [
    "### Solver\n",
    "\n",
    "O python-mip permite a execução com dois dieferentes solvers: CBC ou Gurobi. Execute a primeira célula caso deseje executar utilizando o CBC e a segunda caso deseje utilizar o Gurobi."
   ]
  },
  {
   "cell_type": "code",
   "execution_count": null,
   "metadata": {},
   "outputs": [],
   "source": [
    "solver_code = \"CBC\""
   ]
  },
  {
   "cell_type": "code",
   "execution_count": null,
   "metadata": {},
   "outputs": [],
   "source": [
    "solver_code = \"GRB\""
   ]
  },
  {
   "cell_type": "markdown",
   "metadata": {},
   "source": [
    "# Modelo Matemático\n",
    "\n",
    "O modelo matemático descrito no estudo é baseado na modelagem clássica do problema da dieta. O objetivo dos autores foi a minimização do custo de alimentação. As restrições são resumidas abaixo:\n",
    "\n",
    "- Suprir as necessidades mínimas de determinados nutrientes\n",
    "- Garantir que determinados pratos (pratos princiapais) estejam presentes em todas ou na maioria das refeições\n",
    "- Garantir que alimentos que são parte da cultura alimentar estejam presentes em um número mínimo de refeições\n",
    "- Garantir diversidade de refeições\n",
    "\n",
    "A seguir será descrita a formulação matemática do problema. Nota-se que alguns detalhes são omitidos para simplificar a representação do problema, como por exemplo o custo fixado na função objetivo que é gerado a partir do café da manhã. Essa simplificação não implica em perda da generalidade.\n",
    "\n",
    "A classe *DietSolver* implementa o modelo que será apresentado. Seu construtor, a função de otimização e funções de escrita são apresentadas abaixo."
   ]
  },
  {
   "cell_type": "code",
   "execution_count": null,
   "metadata": {},
   "outputs": [],
   "source": [
    "class DietSolver():\n",
    "\n",
    "    # Initialize class object\n",
    "    # input_data has the information about the dishes\n",
    "    def __init__(self, input_data):\n",
    "        self.dishes = input_data[\"dishes\"]\n",
    "        self.costs = input_data[\"costs\"]\n",
    "        self.components = input_data[\"components\"]\n",
    "        self.components_ingerdients_amount = input_data[\"components_ingerdients_amount\"]\n",
    "        self.components_min_amount = input_data[\"components_min_amount\"]\n",
    "        self.main_dishes = input_data[\"main_dishes\"]\n",
    "        self.cultural_dishes = input_data[\"cultural_dishes\"]\n",
    "        self.main_dish_min_rep = input_data[\"main_dish_min_rep\"]\n",
    "        self.cultural_dish_min_rep = input_data[\"cultural_dish_min_rep\"]\n",
    "        self.cultural_dish_max_rep = input_data[\"cultural_dish_max_rep\"]\n",
    "        self.others_max_rep = input_data[\"others_max_rep\"]\n",
    "        self.total_to_make = input_data[\"total_to_make\"]\n",
    "\n",
    "        # Create a Python-MIP model\n",
    "        self.create_model()\n",
    "        # Create a a variable for each dish\n",
    "        self.create_variables()\n",
    "        # Formulate the objective function\n",
    "        self.create_objective_function()\n",
    "        # Formulate each constraint\n",
    "        self.create_constraints()\n",
    "    \n",
    "    # Create a Python-MIP model\n",
    "    def create_model(self):\n",
    "        self.model = Model(solver_name=solver_code, sense=MINIMIZE)\n",
    "\n",
    "    def optimize(self):\n",
    "        self.status = self.model.optimize()\n",
    "\n",
    "    def print_model(self):\n",
    "        self.model.write(\"temp.lp\")\n",
    "        with open(\"temp.lp\", \"r\") as f_model:\n",
    "            text = f_model.read()\n",
    "            print(text)\n",
    "            os.remove(\"temp.lp\")\n",
    "\n",
    "    def print_solution(self):\n",
    "        if (self.status == OptimizationStatus.OPTIMAL):\n",
    "            print(\"Solução ótima encontrada\")\n",
    "            print(\"Custo: \" + str(self.model.objective_value))\n",
    "            for i, var in enumerate(self.variables):\n",
    "                print(\n",
    "                    \"Quantidade da refeição \\\"\" \n",
    "                    + \n",
    "                    self.dishes[i] \n",
    "                    + \n",
    "                    \"\\\": \" \n",
    "                    + \n",
    "                    str(var.x)\n",
    "                )\n",
    "            return\n",
    "        if(self.status == OptimizationStatus.INFEASIBLE):\n",
    "            print(\"Modelo infactível\")\n",
    "            return\n",
    "        \n",
    "        if (self.status == OptimizationStatus.UNBOUNDED):\n",
    "            print(\"Solução ilimitada (f.o. tende ao infinito)\")\n",
    "            return"
   ]
  },
  {
   "cell_type": "markdown",
   "metadata": {},
   "source": [
    "## Dados do problema\n",
    "\n",
    "- $N$: Número de possíveis pratos a serem preparadas para uma refeição.\n",
    "    - $1 ... K^{arroz}$ são pratos baseados em arroz\n",
    "    - $K^{arroz}+1 ... K^{feijão}$ são pratos baseados em feijão\n",
    "    - $K+1 ... L$ são pratos principais, com $K = K^{feijao}$\n",
    "    - $L+1 ... N$ são os demais pratos\n",
    "\n",
    "- $M$: Número de componentes (vitaminas, sais minerais, etc) a serem considerados na refeição.\n",
    "\n",
    "- $a_{ij}$: Quantidade do componente $i$ no prato $j$. Com $i = 1 ... M$ e $j = 1 ... N$.\n",
    "\n",
    "- $b_{i}$: Quantidade mínima do componente $i$ que deve estar presente na refeição\n",
    "\n",
    "- $c_{j}$: Custo do produto $j$, com $j = 1 ... N$\n",
    "\n",
    "- $P$: Número mínimo de pratos principais a ser incluído no planejamento de refeições\n",
    "\n",
    "- $C^{min}$, $C^{max}$: Número mínimo e máximo de repetições de pratos culturais\n",
    "\n",
    "- $O^{max}$: Número máximo de repetições de pratos não culturais\n",
    "\n",
    "- $H$: Número de refeições a serem preparadas"
   ]
  },
  {
   "cell_type": "markdown",
   "metadata": {},
   "source": [
    "### Exemplo\n",
    "\n",
    "Abaixo segue o código de um exemplo reduzido. Os valores utilizados são arbitrários. Como pode ser visto, algumas mudanças em código foram feitas para facilitar a identificação das constantes, contudo, o princípio da implementação é o mesmo.\n"
   ]
  },
  {
   "cell_type": "code",
   "execution_count": null,
   "metadata": {},
   "outputs": [],
   "source": [
    "# List of all dishes (size = N)\n",
    "dishes = [\n",
    "    \"Almôndegas\",  \n",
    "    \"Strogonoff\", \n",
    "    \"Churrasco\", \n",
    "    \"Arroz\", \n",
    "    \"Feijão\", \n",
    "    \"Arroz à Grega\", \n",
    "    \"Lasanha\",\n",
    "    \"Purê de Batata\",\n",
    "    \"Sopa de Legumes\",\n",
    "    \"Lentilhas\",\n",
    "    \"Ervilhas\",\n",
    "    \"Doce de Leite\",\n",
    "    \"Doce de Abóbora\",\n",
    "    \"Banana\",\n",
    "    \"Maçã\",\n",
    "    \"Leite\"\n",
    "]\n",
    "\n",
    "# Costs array (c_j)\n",
    "costs_per_person = [\n",
    "    0.80, \n",
    "    0.75, \n",
    "    1.10,\n",
    "    0.05,\n",
    "    0.15, \n",
    "    0.10, \n",
    "    0.40, \n",
    "    0.20, \n",
    "    0.25, \n",
    "    0.15,\n",
    "    0.15,\n",
    "    0.5,\n",
    "    0.3,\n",
    "    0.1,\n",
    "    0.15,\n",
    "    0.40\n",
    "]\n",
    "\n",
    "# List of components (size = M)\n",
    "components = [\n",
    "    \"proteina\",\n",
    "    \"calcio\",\n",
    "    \"ferro\",\n",
    "    \"calorias\"\n",
    "]\n",
    "\n",
    "# Amount of components in dishes (a_ij)\n",
    "components_ingerdients_amount = [\n",
    "    [10, 17, 26, 3, 8, 5, 8, 3, 1, 1, 5, 7, 1, 2, 0, 3],\n",
    "    [4, 4, 5, 0, 0, 0, 4, 0, 0, 0, 0, 250, 13, 8, 6, 123],\n",
    "    [2, 2, 3, 0, 5, 0, 0, 0, 0, 2, 2, 0, 1, 1, 0, 0],\n",
    "    [190, 150, 230, 130, 350, 160, 130, 80, 40, 170, 80, 310, 200, 120, 50, 60]\n",
    "]\n",
    "\n",
    "# Min amount of components (b_i)\n",
    "components_min_amount = [\n",
    "    460,\n",
    "    3000,\n",
    "    80,\n",
    "    25000\n",
    "]\n",
    "\n",
    "# List of main dishes (K+1 to L)\n",
    "main_dishes = [\n",
    "    \"Almôndegas\",  \n",
    "    \"Strogonoff\", \n",
    "    \"Churrasco\"\n",
    "]\n",
    "\n",
    "# List of cultural dishes (1 to K)\n",
    "cultural_dishes = [\n",
    "    [\"Arroz\", \"Arroz à Grega\"],\n",
    "    [\"Feijão\"]\n",
    "]\n",
    "\n",
    "# minimum amount of main dishes (P)\n",
    "main_dish_min_rep = 20\n",
    "# minimum of cultural dishes (C^{min})\n",
    "cultural_dish_min_rep = 10\n",
    "# maximum of cultural dishes (C^{max})\n",
    "cultural_dish_max_rep = 20\n",
    "# maximum of repetition of non-cultural dishes (O^{max})\n",
    "others_max_rep = 10\n",
    "# Number of meals (H)\n",
    "total_to_make = 20\n"
   ]
  },
  {
   "cell_type": "markdown",
   "metadata": {},
   "source": [
    "### Variáveis\n",
    "\n",
    "- $x_{j}$: Quantidade a ser feita do prato $j$, $j = 1 ... N$.\n",
    "    - $x_{1} ... x_{K}$ referem às quantidades dos pratos culturais\n",
    "    - $x_{K+1} ... x_{L}$ referem às quantidades dos pratos principais\n",
    "    - $x_{L+1} ... x_{N}$ referem às quantidades dos demais pratos"
   ]
  },
  {
   "cell_type": "code",
   "execution_count": null,
   "metadata": {},
   "outputs": [],
   "source": [
    "class DietSolver(DietSolver):    \n",
    "    # Create a a variable for each dish\n",
    "    def create_variables(self):\n",
    "        self.variables = [\n",
    "            self.model.add_var(\n",
    "                name=\"x_\" + dish, \n",
    "                lb=0, \n",
    "                var_type=CONTINUOUS\n",
    "            )\n",
    "            for dish in self.dishes\n",
    "        ]"
   ]
  },
  {
   "cell_type": "markdown",
   "metadata": {},
   "source": [
    "### Função Objetivo\n",
    "\n",
    "A função objetivo pode ser definida como a multiplicação dos custos dos pratos pela quantidade de cada prato:\n",
    "\n",
    "$min$ $\\sum_{j=1}^{N}{c_{j} * x_{j}}$"
   ]
  },
  {
   "cell_type": "code",
   "execution_count": null,
   "metadata": {},
   "outputs": [],
   "source": [
    "class DietSolver(DietSolver):    \n",
    "    # Formulate the objective function\n",
    "    def create_objective_function(self):\n",
    "        self.model.objective = xsum([\n",
    "            self.costs[i] * self.variables[i]\n",
    "            for i in range(len(self.costs))\n",
    "        ])\n"
   ]
  },
  {
   "cell_type": "markdown",
   "metadata": {},
   "source": [
    "### Restrições"
   ]
  },
  {
   "cell_type": "markdown",
   "metadata": {},
   "source": [
    "As restrições são criadas pelo método *create_constraints*. A seguir, cada subconjunto de restrições será desrito."
   ]
  },
  {
   "cell_type": "code",
   "execution_count": null,
   "metadata": {},
   "outputs": [],
   "source": [
    "class DietSolver(DietSolver):  \n",
    "    # Formulate each constraint\n",
    "    def create_constraints(self):\n",
    "        # Ensures that the minimum amount of each component is match\n",
    "        components_min_amount = self.add_components_min_amount()\n",
    "        \n",
    "        # Ensure that the minumum amount of main dishes is match\n",
    "        main_dish_rep_constraints = self.add_main_dish_rep_constraints()\n",
    "        \n",
    "        # Ensures that the cultural minimum dishes are match\n",
    "        cultural_dish_min_rep_constraints = self.add_cultural_dish_min_rep_constraints()\n",
    "\n",
    "        # Ensures that the cultural maximum dishes are match\n",
    "        cultural_dish_max_rep_constraints = self.add_cultural_dish_max_rep_constraints()\n",
    "\n",
    "\n",
    "        # For each dish that is not a cultural dish\n",
    "        # Ensures that the maximum number of dishes is not exceeded\n",
    "        other_dishes_max_rep = self.add_other_dishes_max_rep()\n",
    "\n",
    "        # Store the constraints\n",
    "        self.constraints = (\n",
    "            components_min_amount \n",
    "            + \n",
    "            main_dish_rep_constraints\n",
    "            +\n",
    "            cultural_dish_min_rep_constraints\n",
    "            +\n",
    "            cultural_dish_max_rep_constraints\n",
    "            +\n",
    "            other_dishes_max_rep\n",
    "        )"
   ]
  },
  {
   "cell_type": "markdown",
   "metadata": {},
   "source": [
    "#### Quantidade mínima de componentes\n",
    "\n",
    "As restrições abaixo definem que a quantidade mínima de cada componente deve estar contida na refeição.\n",
    "\n",
    "$\\sum_{j=1}^{N}{a_{ij}x_{j}} \\leq b_{j}$, com $i = 1 ... M$"
   ]
  },
  {
   "cell_type": "code",
   "execution_count": null,
   "metadata": {},
   "outputs": [],
   "source": [
    "class DietSolver(DietSolver):\n",
    "    def add_components_min_amount(self):\n",
    "        return [\n",
    "            self.model.add_constr(\n",
    "                xsum([\n",
    "                    self.components_ingerdients_amount[i][j] \n",
    "                    * \n",
    "                    self.variables[j]\n",
    "                    for j in range(len(self.dishes))\n",
    "                ])\n",
    "                >= \n",
    "                self.components_min_amount[i],\n",
    "\n",
    "                name=\"constr_min_amount_\" + self.components[i]\n",
    "            )\n",
    "            for i in range(len(self.components))\n",
    "        ]"
   ]
  },
  {
   "cell_type": "markdown",
   "metadata": {},
   "source": [
    "#### Mínimo de pratos principais\n",
    "\n",
    "A restrição abaixo garante que uma quantidade mínima de pratos principais esteja presente nas refeições.\n",
    "\n",
    "$\\sum_{i=K+1}^{L}{x_{j}} \\geq P$"
   ]
  },
  {
   "cell_type": "code",
   "execution_count": null,
   "metadata": {},
   "outputs": [],
   "source": [
    "class DietSolver(DietSolver):  \n",
    "    def add_main_dish_rep_constraints(self):\n",
    "        return [\n",
    "            self.model.add_constr(\n",
    "                xsum([\n",
    "                    self.model.var_by_name(\"x_\" + dish)\n",
    "                    for dish in self.main_dishes\n",
    "                ])\n",
    "                >=\n",
    "                self.main_dish_min_rep,\n",
    "                name=\"constr_min_main_dish\"\n",
    "            )\n",
    "        ]"
   ]
  },
  {
   "cell_type": "markdown",
   "metadata": {},
   "source": [
    "#### Mínimo de repetições de pratos culturais\n",
    "\n",
    "Deve-se garantir que um número mínimo de cada prato cultural seja inserido no planejamento.\n",
    "\n",
    "Garante-se que isso ocorra para pratos baseados em arroz:\n",
    "\n",
    "<!-- $\\sum_{j = 1}^{K^{arroz}}{x_{j}} \\geq C^{min}$ -->\n",
    "$x_{j} \\geq C^{min}, j = 1 ... K^{arroz}$\n",
    "\n",
    "\n",
    "Garante-se que isso ocorra para pratos baseados em feijão:\n",
    "\n",
    "<!-- $\\sum_{j = K^{arroz} + 1}^{K^{feijao}}{x_{j}} \\geq C^{min}$ -->\n",
    "$x_{j} \\geq C^{min}, j = K^{arroz}+1 ... K^{feijao}$"
   ]
  },
  {
   "cell_type": "code",
   "execution_count": null,
   "metadata": {},
   "outputs": [],
   "source": [
    "class DietSolver(DietSolver):  \n",
    "    def add_cultural_dish_min_rep_constraints(self):\n",
    "        constr = []\n",
    "        for k, dishes in enumerate(self.cultural_dishes):\n",
    "            constr +=  [\n",
    "                self.model.add_constr(\n",
    "                    self.model.var_by_name(\"x_\" + dish)\n",
    "                    >=\n",
    "                    self.cultural_dish_min_rep,\n",
    "                    name=\"constr_min_cultural_dish_\" + str(k)\n",
    "                )\n",
    "                for dish in dishes\n",
    "            ]\n",
    "        return constr\n",
    "        \n",
    "        # return [\n",
    "        #     self.model.add_constr(\n",
    "        #         xsum([\n",
    "        #             self.model.var_by_name(\"x_\" + dish)\n",
    "        #             for dish in dishes\n",
    "        #         ])\n",
    "        #         >=\n",
    "        #         self.cultural_dish_min_rep,\n",
    "        #         name=\"constr_min_cultural_dish_\" + str(k)\n",
    "        #     )\n",
    "        #     for k, dishes in enumerate(self.cultural_dishes)\n",
    "        # ]"
   ]
  },
  {
   "cell_type": "markdown",
   "metadata": {},
   "source": [
    "#### Máximo de repetições de pratos culturais\n",
    "\n",
    "Deve-se garantir que um número máximo de cada prato cultural não seja execedido.\n",
    "\n",
    "Garante-se que isso ocorra para pratos baseados em arroz:\n",
    "\n",
    "<!-- $\\sum_{j = 1}^{K^{arroz}}{x_{j}} \\leq C^{max}$ -->\n",
    "$x_{j} \\leq C^{max}, j = 1 ... K^{arroz}$\n",
    "\n",
    "Garante-se que isso ocorra para pratos baseados em feijão:\n",
    "\n",
    "<!-- $\\sum_{j = K^{arroz} + 1}^{K^{feijao}}{x_{j}} \\leq C^{max}$ -->\n",
    "$x_{j} \\leq C^{max}, j = K^{arroz}+1 ... K^{feijao}$\n"
   ]
  },
  {
   "cell_type": "code",
   "execution_count": null,
   "metadata": {},
   "outputs": [],
   "source": [
    "class DietSolver(DietSolver):  \n",
    "    def add_cultural_dish_max_rep_constraints(self):\n",
    "        constr = []\n",
    "        for k, dishes in enumerate(self.cultural_dishes):\n",
    "            constr +=  [\n",
    "                self.model.add_constr(\n",
    "                    self.model.var_by_name(\"x_\" + dish)\n",
    "                    <=\n",
    "                    self.cultural_dish_max_rep,\n",
    "                    name=\"constr_max_cultural_dish_\" + str(k)\n",
    "                )\n",
    "                for dish in dishes\n",
    "            ]\n",
    "        return constr\n",
    "\n",
    "        # return [\n",
    "        #     self.model.add_constr(\n",
    "        #         xsum([\n",
    "        #             self.model.var_by_name(\"x_\" + dish)\n",
    "        #             for dish in dishes\n",
    "        #         ])\n",
    "        #         <=\n",
    "        #         self.cultural_dish_max_rep,\n",
    "        #         name=\"constr_max_cultural_dish_\" + str(k)\n",
    "        #     )\n",
    "        #     for k, dishes in enumerate(self.cultural_dishes)\n",
    "        # ]"
   ]
  },
  {
   "cell_type": "markdown",
   "metadata": {},
   "source": [
    "#### Repetição de pratos não culturais\n",
    "\n",
    "As restrições abaixo garantem que pratos não culturais tenham um limite de repetição.\n",
    "\n",
    "$x_{j} \\leq O^{max}$, com $j = K+1 ... N$"
   ]
  },
  {
   "cell_type": "code",
   "execution_count": null,
   "metadata": {},
   "outputs": [],
   "source": [
    "class DietSolver(DietSolver):  \n",
    "    def add_other_dishes_max_rep(self):\n",
    "        # Create a list without main and cultural dishes and \n",
    "        cultural_dishes_list = []\n",
    "        for dishes in self.cultural_dishes:\n",
    "            cultural_dishes_list += dishes\n",
    "        \n",
    "        other_dishes = list(\n",
    "            set(self.dishes) \n",
    "            - \n",
    "            set(cultural_dishes_list)\n",
    "        )\n",
    "\n",
    "        return  [\n",
    "            self.model.add_constr(\n",
    "                self.model.var_by_name(\"x_\" + dish)\n",
    "                <=\n",
    "                self.others_max_rep,\n",
    "                name=\"constr_max_other_dish\"\n",
    "            )\n",
    "            for dish in other_dishes\n",
    "        ]"
   ]
  },
  {
   "cell_type": "markdown",
   "metadata": {},
   "source": [
    "#### Domínio\n",
    "\n",
    "As restrições abaixo definem o domínio das variáveis. Elas são implementadas na criação das variáveis\n",
    "\n",
    "$x_{j} \\geq 0, j = 1 ... N$"
   ]
  },
  {
   "cell_type": "markdown",
   "metadata": {},
   "source": [
    "### Execução do exemplo"
   ]
  },
  {
   "cell_type": "markdown",
   "metadata": {},
   "source": [
    "Abaixo encontra-se o código para a execução do exemplo apresentado. Será impresso o modelo matemático e a solução obtida."
   ]
  },
  {
   "cell_type": "code",
   "execution_count": null,
   "metadata": {},
   "outputs": [],
   "source": [
    "input_data = {\n",
    "    \"dishes\" : dishes,\n",
    "    \"costs\" : costs_per_person,\n",
    "    \"components\" : components,\n",
    "    \"components_ingerdients_amount\" : components_ingerdients_amount,\n",
    "    \"components_min_amount\" : components_min_amount,\n",
    "    \"main_dishes\" : main_dishes,\n",
    "    \"cultural_dishes\" : cultural_dishes,\n",
    "    \"main_dish_min_rep\" : main_dish_min_rep,\n",
    "    \"cultural_dish_min_rep\" : cultural_dish_min_rep,\n",
    "    \"cultural_dish_max_rep\" : cultural_dish_max_rep,\n",
    "    \"others_max_rep\" : others_max_rep,\n",
    "    \"total_to_make\" : total_to_make\n",
    "}\n",
    "model = DietSolver(input_data=input_data)\n",
    "model.print_model()\n",
    "model.optimize()\n",
    "model.print_solution()"
   ]
  }
 ],
 "metadata": {
  "kernelspec": {
   "display_name": "Python 3 (ipykernel)",
   "language": "python",
   "name": "python3"
  },
  "language_info": {
   "codemirror_mode": {
    "name": "ipython",
    "version": 3
   },
   "file_extension": ".py",
   "mimetype": "text/x-python",
   "name": "python",
   "nbconvert_exporter": "python",
   "pygments_lexer": "ipython3",
   "version": "3.11.6"
  }
 },
 "nbformat": 4,
 "nbformat_minor": 2
}
